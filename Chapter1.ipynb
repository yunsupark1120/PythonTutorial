{
 "cells": [
  {
   "cell_type": "markdown",
   "metadata": {},
   "source": [
    "---\n",
    "Python Tutorial - Chapter 1\n",
    "---"
   ]
  },
  {
   "cell_type": "markdown",
   "metadata": {},
   "source": [
    "# Welcome back to Python Tutorial!\n",
    "\n",
    "Topics covered in this chapter:\n",
    "\n",
    "* variables\n",
    "* data types and operations\n",
    "* print() statement\n",
    "* input() statement"
   ]
  },
  {
   "cell_type": "markdown",
   "metadata": {},
   "source": [
    "## Python Variables\n",
    "\n",
    "Variables are containers for storing data values.\n",
    "Python is a dynamically typed language, which means that you don't have to declare the type of a variable when you create one.\n",
    "\n",
    "Variables are created when you assign a value to it.\n",
    "\n",
    "In an empty code cell, type the following code:\n",
    "```python\n",
    "x = 5\n",
    "y = \"Hello, World!\"\n",
    "```\n",
    "Contratulations! You have created your first Python variable.\n",
    "\n",
    "In a box called `x`, you have stored the value `5`. In another box called `y`, you have stored the value `\"Hello, World!\"`.\n",
    "\n",
    "Now try to print the value of `x` and `y` using the `print()` statement."
   ]
  },
  {
   "cell_type": "code",
   "execution_count": 1,
   "metadata": {},
   "outputs": [
    {
     "name": "stdout",
     "output_type": "stream",
     "text": [
      "5\n",
      "Hello, World!\n"
     ]
    }
   ],
   "source": [
    "x = 5\n",
    "y = \"Hello, World!\"\n",
    "\n",
    "print(x)\n",
    "print(y)"
   ]
  },
  {
   "cell_type": "markdown",
   "metadata": {},
   "source": [
    "Variables are newly created if you assign a new value to it.\n",
    "\n",
    "For example:\n",
    "```python\n",
    "x = 5\n",
    "x = 10\n",
    "print(x)\n",
    "```\n",
    "The output of the code above will be `10`, because the value of `x` has been updated to `10`.\n",
    "\n",
    "Also, `x = x + 1` is a valid statement in Python. It means that the value of `x` will be updated to `x + 1`.\n",
    "```python\n",
    "x = 5\n",
    "x = x + 1 # x = 5 + 1\n",
    "print(x)\n",
    "```\n",
    "The output of the code above will be `6`."
   ]
  },
  {
   "cell_type": "code",
   "execution_count": 4,
   "metadata": {},
   "outputs": [
    {
     "name": "stdout",
     "output_type": "stream",
     "text": [
      "5\n",
      "10\n",
      "20\n"
     ]
    }
   ],
   "source": [
    "x = 5\n",
    "print(x) # 5\n",
    "x = 10\n",
    "print(x) # 10\n",
    "x = x + x\n",
    "print(x) # 20"
   ]
  },
  {
   "cell_type": "markdown",
   "metadata": {},
   "source": [
    "* Practice Problem: Using only one variable called 'var', write a code that will output the following:\n",
    "\n",
    "\n",
    "    1\n",
    "\n",
    "    10\n",
    "\n",
    "    Python\n"
   ]
  },
  {
   "cell_type": "code",
   "execution_count": 5,
   "metadata": {},
   "outputs": [
    {
     "name": "stdout",
     "output_type": "stream",
     "text": [
      "1\n",
      "10\n",
      "Python\n"
     ]
    }
   ],
   "source": [
    "var = 1\n",
    "print(var)\n",
    "\n",
    "var = 10\n",
    "print(var)\n",
    "\n",
    "var = \"Python\"\n",
    "print(var)"
   ]
  },
  {
   "cell_type": "markdown",
   "metadata": {},
   "source": [
    "## Data Types and Operations\n",
    "Data types are the classification or categorization of data items. It represents the kind of value that tells what operations can be performed on a particular data.\n",
    "\n",
    "Python has the following data types built-in by default, in these categories:\n",
    "* Text Type: `str` (string)\n",
    "* Numeric Types: `int` (integer), `float` (floating point number)\n",
    "* Sequence Types: `list`, `tuple`, `range`\n",
    "* Mapping Type: `dict` (dictionary)\n",
    "* Set Types: `set`, `frozenset`\n",
    "* Boolean Type: `bool` (boolean)\n",
    "\n",
    "In this tutorial, we will cover the following data types:\n",
    "* `int` (integer)\n",
    "* `float` (floating point number)\n",
    "* `str` (string)\n",
    "* `bool` (boolean)\n"
   ]
  },
  {
   "cell_type": "markdown",
   "metadata": {},
   "source": [
    "### Integers\n",
    "Integers are whole numbers, positive or negative, without decimals, of unlimited length.\n",
    "`1`, `100`, `-1000`, `0` are examples of integers.\n",
    "\n",
    "With integers, you can perform mathematical operations such as _addition_, _subtraction_, _multiplication_, and _division_.\n",
    "\n",
    "In an empty code cell, type the following code:\n",
    "```python\n",
    "x = 5\n",
    "y = 10\n",
    "print(x + y) # addition\n",
    "print(x - y) # subtraction\n",
    "print(x * y) # multiplication\n",
    "print(x / y) # division\n",
    "```\n"
   ]
  },
  {
   "cell_type": "code",
   "execution_count": 8,
   "metadata": {},
   "outputs": [
    {
     "name": "stdout",
     "output_type": "stream",
     "text": [
      "15\n",
      "-5\n",
      "50\n",
      "0.5\n"
     ]
    }
   ],
   "source": [
    "x = 5\n",
    "y = 10\n",
    "print(x + y) # addition\n",
    "print(x - y) # subtraction\n",
    "print(x * y) # multiplication\n",
    "print(x / y) # division"
   ]
  },
  {
   "cell_type": "markdown",
   "metadata": {},
   "source": [
    "There are also other operations that you can perform with integers such as _floor division_, _modulus_ and _exponentiation_.\n",
    "\n",
    "In an empty code cell, type the following code:\n",
    "```python\n",
    "x = 5\n",
    "y = 2\n",
    "print(x % y) # modulus\n",
    "print(x ** y) # exponentiation\n",
    "print(x // y) # floor division\n",
    "```"
   ]
  },
  {
   "cell_type": "code",
   "execution_count": 10,
   "metadata": {},
   "outputs": [
    {
     "name": "stdout",
     "output_type": "stream",
     "text": [
      "2.5\n",
      "1\n",
      "25\n",
      "2\n"
     ]
    }
   ],
   "source": [
    "x = 5\n",
    "y = 2\n",
    "print(x / y) # plane division\n",
    "print(x % y) # modulus\n",
    "print(x ** y) # exponentiation\n",
    "print(x // y) # floor division"
   ]
  },
  {
   "cell_type": "markdown",
   "metadata": {},
   "source": [
    "### Floats\n",
    "Floats are real numbers, positive or negative, containing one or more decimals.\n",
    "`1.5`, `123.456`, `-1000.0`, `0.0` are examples of floats.\n",
    "\n",
    "With floats, you can perform the same mathematical operations as integers.\n",
    "\n",
    "You can also mix integers and floats in the same operation."
   ]
  },
  {
   "cell_type": "code",
   "execution_count": 11,
   "metadata": {},
   "outputs": [
    {
     "name": "stdout",
     "output_type": "stream",
     "text": [
      "15.5\n",
      "4.5\n",
      "55.0\n",
      "1.8181818181818181\n",
      "1.0\n",
      "316227.7660168379\n",
      "4.5\n"
     ]
    }
   ],
   "source": [
    "x = 10\n",
    "y = 5.5\n",
    "print(x + y) # addition\n",
    "print(x - y) # subtraction\n",
    "print(x * y) # multiplication\n",
    "print(x / y) # division\n",
    "print(x // y) # floor division\n",
    "print(x ** y) # exponentiation\n",
    "print(x % y) # modulus\n"
   ]
  },
  {
   "cell_type": "markdown",
   "metadata": {},
   "source": [
    "### Strings\n",
    "Strings are sequences of characters, enclosed in single or double quotes.\n",
    "`\"Hello, World!\"`, `'Python'`, `'123'` are examples of strings.\n",
    "\n",
    "Note that even though the value `'123'` looks like a number, it is actually a string because it is enclosed in quotes.\n",
    "\n",
    "You cannot perform mathematical operations with strings, but you can perform string operations such as _concatenation_ and _repetition_.\n",
    "Therefore, you cannot mix strings with integers or floats in the same operation.\n",
    "\n",
    "In an empty code cell, type the following code:\n",
    "```python\n",
    "x = \"Hello, \"\n",
    "y = \"World!\"\n",
    "print(x + y) # concatenation\n",
    "print(x * 3) # repetition\n",
    "print(x + 3) # error\n",
    "```"
   ]
  },
  {
   "cell_type": "code",
   "execution_count": 12,
   "metadata": {},
   "outputs": [
    {
     "name": "stdout",
     "output_type": "stream",
     "text": [
      "Hello, World!\n",
      "Hello, Hello, Hello, \n"
     ]
    }
   ],
   "source": [
    "x = \"Hello, \"\n",
    "y = \"World!\"\n",
    "print(x + y) # concatenation\n",
    "print(x * 3) # repetition"
   ]
  },
  {
   "cell_type": "markdown",
   "metadata": {},
   "source": [
    "Quiz: What will be the output of this code?\n",
    "```python\n",
    "x = 100\n",
    "y = 200\n",
    "print(x + y)\n",
    "\n",
    "x = \"100\"\n",
    "y = \"200\"\n",
    "print(x + y)\n",
    "\n",
    "x = 100\n",
    "y = \"200\"\n",
    "print(x + y)\n",
    "```"
   ]
  },
  {
   "cell_type": "markdown",
   "metadata": {},
   "source": [
    "### Booleans\n",
    "Booleans represent one of two values: `True` or `False`.\n",
    "\n",
    "Booleans are used to evaluate conditions.\n",
    "\n",
    "We will come back to booleans in the future chapter.\n"
   ]
  },
  {
   "cell_type": "code",
   "execution_count": 13,
   "metadata": {},
   "outputs": [
    {
     "name": "stdout",
     "output_type": "stream",
     "text": [
      "True\n",
      "False\n"
     ]
    }
   ],
   "source": [
    "# Exaple of Boolean\n",
    "print(10 != 9) # not equal\n",
    "print(10 == 9) # equal"
   ]
  },
  {
   "cell_type": "markdown",
   "metadata": {},
   "source": [
    "### Checking Data Types\n",
    "\n",
    "You can check the data type of a variable using the `type()` function.\n",
    "\n",
    "In an empty code cell, type the following code:\n",
    "```python\n",
    "num = 5\n",
    "word = \"Hello, World!\"\n",
    "pi = 3.14\n",
    "cond = True\n",
    "print(type(num))\n",
    "print(type(word))\n",
    "print(type(pi))\n",
    "print(type(cond))\n",
    "```\n",
    "### Conversion between Data Types\n",
    "\n",
    "You can convert between data types using the following functions:\n",
    "* `int()` \n",
    "* `float()`\n",
    "* `str()`\n",
    "* `bool()`\n"
   ]
  },
  {
   "cell_type": "code",
   "execution_count": 19,
   "metadata": {},
   "outputs": [
    {
     "name": "stdout",
     "output_type": "stream",
     "text": [
      "<class 'int'>\n",
      "20.0\n",
      "<class 'float'>\n",
      "3.14\n",
      "3.143.14\n",
      "<class 'str'>\n",
      "False\n",
      "True\n"
     ]
    }
   ],
   "source": [
    "x = 5\n",
    "print(type(x)) # int\n",
    "\n",
    "x = float(20)\n",
    "print(x) # 20.0\n",
    "print(type(x)) # float\n",
    "\n",
    "x = str(3.14)\n",
    "print(x) # '3.14'\n",
    "print(x * 2) # '3.143.14'\n",
    "print(type(x)) # str\n",
    "\n",
    "x = bool(0)\n",
    "y = bool(1)\n",
    "print(x) # False\n",
    "print(y) # True"
   ]
  },
  {
   "cell_type": "markdown",
   "metadata": {},
   "source": [
    "## print() statement\n",
    "The `print()` statement is used to display the output of a code.\n",
    "\n",
    "### Normal print() statement\n",
    "\n",
    "In an empty code cell, type the following code:\n",
    "```python\n",
    "x = 5\n",
    "print(\"The value of x is\", x)\n",
    "```\n",
    "\n",
    "You can also use the `+` operator to concatenate strings in the `print()` statement.\n",
    "\n",
    "In an empty code cell, type the following code:\n",
    "```python\n",
    "x = 5\n",
    "print(\"The value of x is \" + str(x))\n",
    "```\n",
    "\n",
    "### f-string\n",
    "\n",
    "You can also use the `f-string` to format the output of the `print()` statement.\n",
    "\n",
    "In an empty code cell, type the following code:\n",
    "```python\n",
    "x = 5\n",
    "print(f\"The value of x is {x}\")\n",
    "\n",
    "name = \"John\"\n",
    "age = 25\n",
    "print(f\"Hello, my name is {name} and I am {age} years old.\")\n",
    "```"
   ]
  },
  {
   "cell_type": "markdown",
   "metadata": {},
   "source": [
    "### Escape Characters\n",
    "\n",
    "You can use the following escape characters in the `print()` statement:\n",
    "* `\\n` - new line\n",
    "* `\\t` - tab\n",
    "* `\\\\` - backslash\n",
    "* `\\\"` - double quote\n",
    "* `\\'` - single quote\n",
    "\n",
    "In an empty code cell, type the following code:\n",
    "```python\n",
    "print(\"Hello\\nWorld!\")\n",
    "print(\"Hello\\tWorld!\")\n",
    "print(\"Hello\\\\World!\")\n",
    "print(\"Hello\\\"World!\")\n",
    "print(\"Hello\\'World!\")\n",
    "```"
   ]
  },
  {
   "cell_type": "code",
   "execution_count": 26,
   "metadata": {},
   "outputs": [
    {
     "name": "stdout",
     "output_type": "stream",
     "text": [
      "Hello\n",
      "World!\n",
      "Hello\tWorld!\n",
      "Hello\\World!\n",
      "Hello\"World!\n",
      "Hello'World!\n"
     ]
    }
   ],
   "source": [
    "print(\"Hello\\nWorld!\")\n",
    "print(\"Hello\\tWorld!\")\n",
    "print(\"Hello\\\\World!\")\n",
    "print(\"Hello\\\"World!\")\n",
    "print(\"Hello\\'World!\")"
   ]
  },
  {
   "cell_type": "markdown",
   "metadata": {},
   "source": [
    "## input() statement\n",
    "\n",
    "The `input()` statement is used to get input from the user.\n",
    "\n",
    "In an empty code cell, type the following code:\n",
    "```python\n",
    "name = input(\"Enter your name: \")\n",
    "print(\"Hello, \" + name)\n",
    "```\n",
    "\n",
    "The `input()` statement will display the message \"Enter your name: \" and wait for the user to input a value. The value will be stored in the variable `name`.\n",
    "\n",
    "By default, the value of `input()` is a string. If you want to convert it to an integer or a float, you can use the `int()` or `float()` function.\n",
    "\n",
    "for example:\n",
    "```python\n",
    "num1 = input(\"Enter a number: \")\n",
    "num2 = input(\"Enter another number: \")\n",
    "\n",
    "print(num1 + num2)\n",
    "```\n",
    "This code will not work as expected because the value of `num1` and `num2` are strings. You need to convert them to integers or floats.\n",
    "\n",
    "```python\n",
    "num1 = int(input(\"Enter a number: \"))\n",
    "num2 = int(input(\"Enter another number: \"))\n",
    "print(num1 + num2)\n",
    "``` "
   ]
  },
  {
   "cell_type": "markdown",
   "metadata": {},
   "source": [
    "## Practice Problems\n",
    "\n",
    "### Problems\n",
    "\n",
    "1. Write a simple calculator that receives two numbers from the user and outputs the sum, difference, product, and quotient of the two numbers in a follwoing format:\n",
    "\n",
    "    _Enter the first number: 5_\n",
    "    _Enter the second number: 10_\n",
    "\n",
    "    _The sum of 5 and 10 is 15._\n",
    "\n",
    "    _The difference of 5 and 10 is -5._\n",
    "\n",
    "    _The product of 5 and 10 is 50._\n",
    "\n",
    "    _The quotient of 5 and 10 is 0.5._\n",
    "\n",
    "    \n",
    "\n",
    "2. Write a code that will receive the radius of a circle from the user and output the area and circumference of the circle in the following format:\n",
    "\n",
    "    _Enter the radius of the circle: 5_\n",
    "\n",
    "    _The area of the circle is 78.5._\n",
    "\n",
    "    _The circumference of the circle is 31.4._\n",
    "\n",
    "\n",
    "**Note:** Area = $\\pi r^2$, Circumference = $2\\pi r$"
   ]
  },
  {
   "cell_type": "markdown",
   "metadata": {},
   "source": [
    "3. Time travel to Thailand?\n",
    "\n",
    "After a long trip, you and your friends finally arrived to Thailand for your summer vacation. At Suvarnabhumi International Airport, you and your friends are surprised that the year is 2567, not 2024. \n",
    "\n",
    "This is because Thailand uses the Buddhist calendar, which is 543 years ahead of the Gregorian calendar.\n",
    "\n",
    "Write a code that will receive the current year from the user and output the year in the Gregorian calendar in the following format:\n",
    "\n",
    "_Enter the current year: 2567_\n",
    "\n",
    "_The current year in the Gregorian calendar is 2024._"
   ]
  },
  {
   "cell_type": "markdown",
   "metadata": {},
   "source": [
    "4. Money exchange\n",
    "\n",
    "After arriving to Thailand, you and your friends need to exchange your money to Thai Baht.\n",
    "\n",
    "Your crew discovered a money exchange booth that exchanges 1 US dollar to 35 Thai Baht.\n",
    "\n",
    "The money exchange booth also charges a 5% fee for every transaction.\n",
    "\n",
    "Write a code that will receive the amount of US dollars from the user and output the amount of Thai Baht that you will receive after the transaction in the following format:\n",
    "\n",
    "_Enter the amount of US dollars: 100_\n",
    "\n",
    "_You will receive 3325 Thai Baht after the transaction._"
   ]
  },
  {
   "cell_type": "markdown",
   "metadata": {},
   "source": [
    "### Solutions\n",
    "\n",
    "```python\n",
    "# Problem 1\n",
    "\n",
    "num1 = int(input(\"Enter the first number: \"))\n",
    "num2 = int(input(\"Enter the second number: \"))\n",
    "print(f\"The sum of {num1} and {num2} is {num1 + num2}.\")\n",
    "print(f\"The difference of {num1} and {num2} is {num1 - num2}.\")\n",
    "print(f\"The product of {num1} and {num2} is {num1 * num2}.\")\n",
    "print(f\"The quotient of {num1} and {num2} is {num1 / num2}.\")\n",
    "```\n",
    "\n",
    "```python\n",
    "# Problem 2\n",
    "\n",
    "radius = float(input(\"Enter the radius of the circle: \"))\n",
    "area = 3.14 * radius ** 2\n",
    "circumference = 2 * 3.14 * radius\n",
    "print(f\"The area of the circle is {area}.\")\n",
    "print(f\"The circumference of the circle is {circumference}.\")\n",
    "```\n",
    "\n",
    "```python\n",
    "# Problem 3\n",
    "\n",
    "year = int(input(\"Enter the current year: \"))\n",
    "gregorian_year = year - 543\n",
    "print(f\"The current year in the Gregorian calendar is {gregorian_year}.\")\n",
    "```\n",
    "\n",
    "```python\n",
    "# Problem 4\n",
    "\n",
    "us_dollars = float(input(\"Enter the amount of US dollars: \"))\n",
    "thai_baht = us_dollars * 35\n",
    "thai_baht -= thai_baht * 0.05\n",
    "print(f\"You will receive {thai_baht} Thai Baht after the transaction.\")\n",
    "```\n"
   ]
  }
 ],
 "metadata": {
  "kernelspec": {
   "display_name": "Python 3",
   "language": "python",
   "name": "python3"
  },
  "language_info": {
   "codemirror_mode": {
    "name": "ipython",
    "version": 3
   },
   "file_extension": ".py",
   "mimetype": "text/x-python",
   "name": "python",
   "nbconvert_exporter": "python",
   "pygments_lexer": "ipython3",
   "version": "3.9.12"
  }
 },
 "nbformat": 4,
 "nbformat_minor": 2
}
