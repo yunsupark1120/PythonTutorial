{
 "cells": [
  {
   "cell_type": "markdown",
   "metadata": {},
   "source": [
    "---\n",
    "Python Tutorial - Chapter 2\n",
    "---\n",
    "\n",
    "# Welcom back to Python Tutorial!\n",
    "\n",
    "Topics covered in this chapter:\n",
    "\n",
    "* list\n",
    "* tuple\n",
    "* set\n",
    "* dictionary\n",
    "\n",
    "So far, we have seen the following data types in Python, `int`, `float`, `str`, `bool`. These data types are used to store a single value. But what if we want to store multiple values in a single variable? This is where Python list comes in.\n",
    "\n",
    "There are four built-in data types in Python that can be used to store multiple values in a single variable. These data types are 'list', 'tuple', 'set', and 'dictionary'.\n",
    "\n",
    "## Python List data type\n",
    "\n",
    "List is a collection which is ordered and changeable. In Python lists are written with square brackets `[]`.\n",
    "\n",
    "Lists can store any type of data, including other lists. Lists can also store duplicate values.\n",
    "\n",
    "### List Example\n",
    "\n",
    "- lists can store any type of data"
   ]
  },
  {
   "cell_type": "code",
   "execution_count": 53,
   "metadata": {},
   "outputs": [
    {
     "name": "stdout",
     "output_type": "stream",
     "text": [
      "[1, 2, 3, 4, 5, 6, 7, 8, 9, 10]\n",
      "['apple', 'banana', 'cherry', 'date', 'elderberry', 'fig', 'grape']\n",
      "[True, False]\n",
      "[1.1, 2.2, 3.3, 4.4, 5.5]\n",
      "[1, 'apple', True, 3.3]\n"
     ]
    }
   ],
   "source": [
    "integer_list = [1, 2, 3, 4, 5, 6, 7, 8, 9, 10]\n",
    "string_list = [\"apple\", \"banana\", \"cherry\", \"date\", \"elderberry\", \"fig\", \"grape\"]\n",
    "boolean_list = [True, False]\n",
    "float_list = [1.1, 2.2, 3.3, 4.4, 5.5]\n",
    "mixed_list = [1, \"apple\", True, 3.3]\n",
    "\n",
    "print(integer_list)\n",
    "print(string_list)\n",
    "print(boolean_list)\n",
    "print(float_list)\n",
    "print(mixed_list)"
   ]
  },
  {
   "cell_type": "markdown",
   "metadata": {},
   "source": [
    "- lists can store duplicate values or have no values at all"
   ]
  },
  {
   "cell_type": "code",
   "execution_count": 54,
   "metadata": {},
   "outputs": [
    {
     "name": "stdout",
     "output_type": "stream",
     "text": [
      "[1, 2, 2, 3, 3, 3]\n",
      "[]\n"
     ]
    }
   ],
   "source": [
    "dup_list = [1, 2, 2, 3, 3, 3]\n",
    "empty_list = []\n",
    "\n",
    "print(dup_list)\n",
    "print(empty_list)"
   ]
  },
  {
   "cell_type": "markdown",
   "metadata": {},
   "source": [
    "- lists can store other lists"
   ]
  },
  {
   "cell_type": "code",
   "execution_count": 55,
   "metadata": {},
   "outputs": [
    {
     "name": "stdout",
     "output_type": "stream",
     "text": [
      "['super', 'list', ['this', 'is', 'a', 'sub', 'list']]\n"
     ]
    }
   ],
   "source": [
    "sub_list = [\"this\", \"is\", \"a\", \"sub\", \"list\"]\n",
    "super_list = [\"super\", \"list\", sub_list]\n",
    "\n",
    "print(super_list)"
   ]
  },
  {
   "cell_type": "markdown",
   "metadata": {},
   "source": [
    "### Size of list\n",
    "\n",
    "The length of a list can be found using the `len()` function.\n",
    "\n",
    "`len` function returns the number of items in an object."
   ]
  },
  {
   "cell_type": "code",
   "execution_count": 56,
   "metadata": {},
   "outputs": [
    {
     "name": "stdout",
     "output_type": "stream",
     "text": [
      "3\n",
      "3\n",
      "5\n"
     ]
    }
   ],
   "source": [
    "list1 = [1, 2, 3]\n",
    "size1 = len(list1) \n",
    "print(size1)\n",
    "\n",
    "sub_list = [\"this\", \"is\", \"a\", \"sub\", \"list\"]\n",
    "super_list = [\"super\", \"list\", sub_list]\n",
    "\n",
    "print(len(super_list)) #3\n",
    "print(len(sub_list)) #5"
   ]
  },
  {
   "cell_type": "markdown",
   "metadata": {},
   "source": [
    "### Accessing Elements of a List\n",
    "\n",
    "- You can access the elements of a list using the `index`.\n",
    "\n",
    "A list stores elements in an ordered manner. Each element in a list has an index. The index of the first element is `0`, the index of the second element is `1`, and so on.\n",
    "\n",
    "_Quiz: What will be the output of this code?_\n",
    "\n",
    "```python\n",
    "\n",
    "numbers = [5, 4, 3, 2, 1]\n",
    "number = numbers[0]\n",
    "\n",
    "target = number * numbers[3]\n",
    "\n",
    "print(target)\n",
    "\n",
    "```\n",
    "\n",
    "_Answer_"
   ]
  },
  {
   "cell_type": "code",
   "execution_count": 57,
   "metadata": {},
   "outputs": [
    {
     "name": "stdout",
     "output_type": "stream",
     "text": [
      "10\n"
     ]
    }
   ],
   "source": [
    "numbers = [5, 4, 3, 2, 1] # index 0, 1, 2, 3, 4\n",
    "number = numbers[0] # 5\n",
    "\n",
    "target = number * numbers[3] # 5 * 2 = 10\n",
    "\n",
    "print(target)"
   ]
  },
  {
   "cell_type": "markdown",
   "metadata": {},
   "source": [
    "- Negative Indexing\n",
    "\n",
    "The index starts from `0` if you start from the first element. If you want to access element from reversed order, you can start from `-1`, `-2`, and so on, instead."
   ]
  },
  {
   "cell_type": "code",
   "execution_count": 58,
   "metadata": {},
   "outputs": [
    {
     "name": "stdout",
     "output_type": "stream",
     "text": [
      "grape\n",
      "grape\n",
      "fig\n",
      "fig\n"
     ]
    }
   ],
   "source": [
    "words = [\"apple\", \"banana\", \"cherry\", \"date\", \"elderberry\", \"fig\", \"grape\"]\n",
    "\n",
    "# Access the last element of the list\n",
    "n = len(words)\n",
    "print(words[n - 1]) # indexing starts from 0, so the last element is at index n - 1\n",
    "print(words[-1])\n",
    "\n",
    "# Access the second last element of the list\n",
    "print(words[n - 2])\n",
    "print(words[-2])"
   ]
  },
  {
   "cell_type": "markdown",
   "metadata": {},
   "source": [
    "### Slicing a List\n",
    "\n",
    "If you want to access multiple items from a list, you can use slicing.\n",
    "\n",
    "Slicing is done using the colon `:`. You can specify the start index and the end index, separated by a colon, to return a part of the list.\n",
    "\n",
    "Specifically, the syntax for slicing is `list[start:end]`."
   ]
  },
  {
   "cell_type": "code",
   "execution_count": 59,
   "metadata": {},
   "outputs": [
    {
     "name": "stdout",
     "output_type": "stream",
     "text": [
      "[2, 3]\n"
     ]
    }
   ],
   "source": [
    "main_list = [1, 2, 3, 4, 5]\n",
    "sub_list = main_list[1:3] \n",
    "\n",
    "\n",
    "print(sub_list) # [2, 3]"
   ]
  },
  {
   "cell_type": "markdown",
   "metadata": {},
   "source": [
    "$ subList = \\{mainList | index \\in [start, end)\\}$\n",
    "\n",
    "`sub_list` varialbe is a sublist of `main_list` variable, where `index` is in the range of $[start, end)$ or $ start \\leq index < end $.\n",
    "\n",
    "You can also specify the step, which allows you to return every `n-th` item. \n",
    "\n",
    "The syntax for step is `list[start:end:step]`.\n",
    "\n",
    "- If you leave the start index empty, it will start from the beginning.\n",
    "- If you leave the end index empty, it will go to the end. \n",
    "- If you leave the step empty, it will return every item."
   ]
  },
  {
   "cell_type": "code",
   "execution_count": 60,
   "metadata": {},
   "outputs": [
    {
     "name": "stdout",
     "output_type": "stream",
     "text": [
      "[2, 4, 6, 8, 10]\n",
      "[1, 3, 5, 7, 9]\n"
     ]
    }
   ],
   "source": [
    "numbers = [1, 2, 3, 4, 5, 6, 7, 8, 9, 10]\n",
    "even_numbers = numbers[1::2] # [2, 4, 6, 8, 10]\n",
    "odd_numbers = numbers[::2] # [1, 3, 5, 7, 9]\n",
    "\n",
    "print(even_numbers)\n",
    "print(odd_numbers)"
   ]
  },
  {
   "cell_type": "markdown",
   "metadata": {},
   "source": [
    "### Adding and Removing items from list\n",
    "\n",
    "- `append(item)` method adds an item to the end of the list.\n",
    "\n",
    "- `insert(index, item)` method adds an item at a specified position.\n",
    "\n",
    "- `remove(item)` method removes the first occurrence of the specified value.\n",
    "\n",
    "- `pop(index)` method removes the item at the specified position.\n",
    "\n",
    "- `clear()` method removes all the items from the list.\n",
    "\n",
    "- `extend()` method adds the elements of a list to the end of the current list."
   ]
  },
  {
   "cell_type": "code",
   "execution_count": 61,
   "metadata": {},
   "outputs": [
    {
     "name": "stdout",
     "output_type": "stream",
     "text": [
      "[1, 2, 3, 4, 5, 6]\n"
     ]
    }
   ],
   "source": [
    "# append()\n",
    "\n",
    "numbers = [1, 2, 3, 4, 5]\n",
    "\n",
    "numbers.append(6)\n",
    "\n",
    "print(numbers)\n"
   ]
  },
  {
   "cell_type": "code",
   "execution_count": 62,
   "metadata": {},
   "outputs": [
    {
     "name": "stdout",
     "output_type": "stream",
     "text": [
      "[1, 2, 3, 4, 5, 6]\n"
     ]
    }
   ],
   "source": [
    "# insert()\n",
    "\n",
    "numbers = [1, 2, 4, 5, 6]\n",
    "numbers.insert(2, 3) # insert 3 at index 2\n",
    "print(numbers) "
   ]
  },
  {
   "cell_type": "code",
   "execution_count": 63,
   "metadata": {},
   "outputs": [
    {
     "name": "stdout",
     "output_type": "stream",
     "text": [
      "[1, 1, 2, 2, 2]\n"
     ]
    }
   ],
   "source": [
    "# remove()\n",
    "\n",
    "numbers = [1, 1, 1, 2, 2, 2]\n",
    "numbers.remove(1) # remove the first occurrence of 1\n",
    "print(numbers)"
   ]
  },
  {
   "cell_type": "code",
   "execution_count": 64,
   "metadata": {},
   "outputs": [
    {
     "name": "stdout",
     "output_type": "stream",
     "text": [
      "[1, 2, 3, 4]\n",
      "the removed item is 5\n",
      "[1, 2, 4, 5]\n",
      "the removed item is 3\n"
     ]
    }
   ],
   "source": [
    "# pop()\n",
    "\n",
    "numbers = [1, 2, 3, 4, 5]\n",
    "removed = numbers.pop() # remove the last element\n",
    "print(numbers)\n",
    "print(f\"the removed item is {removed}\")\n",
    "\n",
    "numbers = [1, 2, 3, 4, 5]\n",
    "removed = numbers.pop(2) # remove the element at index 2\n",
    "print(numbers)\n",
    "print(f\"the removed item is {removed}\")"
   ]
  },
  {
   "cell_type": "code",
   "execution_count": 65,
   "metadata": {},
   "outputs": [
    {
     "name": "stdout",
     "output_type": "stream",
     "text": [
      "before clear length: 5\n",
      "after clear length: 0\n",
      "[]\n"
     ]
    }
   ],
   "source": [
    "# clear()\n",
    "\n",
    "numbers = [1, 2, 3, 4, 5]\n",
    "print(f\"before clear length: {len(numbers)}\") \n",
    "numbers.clear()\n",
    "print(f\"after clear length: {len(numbers)}\") \n",
    "print(numbers)"
   ]
  },
  {
   "cell_type": "code",
   "execution_count": 66,
   "metadata": {},
   "outputs": [
    {
     "name": "stdout",
     "output_type": "stream",
     "text": [
      "[1, 2, 3, 4, 5, 6]\n"
     ]
    }
   ],
   "source": [
    "# extend()\n",
    "\n",
    "numbers = [1, 2, 3]\n",
    "more_numbers = [4, 5, 6]\n",
    "\n",
    "numbers.extend(more_numbers)\n",
    "print(numbers)"
   ]
  },
  {
   "cell_type": "markdown",
   "metadata": {},
   "source": [
    "_Quiz: What will be the output of this code?_\n",
    "\n",
    "```python\n",
    "\n",
    "numbers = [1, 2, 3]\n",
    "more_numbers = [4, 5, 6]\n",
    "\n",
    "numbers.extend(more_numbers)\n",
    "\n",
    "more_numbers.extend(numbers)\n",
    "\n",
    "print(more_numbers)\n",
    "\n",
    "```\n",
    "\n",
    "_Answer_\n",
    "\n",
    "`numbers` variable is updated from `[1, 2, 3]` to `[1, 2, 3, 4, 5, 6]`. `more_numbers` variable is updated from `[4, 5, 6]` to `[4, 5, 6, 1, 2, 3, 4, 5, 6]`."
   ]
  },
  {
   "cell_type": "code",
   "execution_count": 67,
   "metadata": {},
   "outputs": [
    {
     "name": "stdout",
     "output_type": "stream",
     "text": [
      "[4, 5, 6, 1, 2, 3, 4, 5, 6]\n"
     ]
    }
   ],
   "source": [
    "numbers = [1, 2, 3]\n",
    "more_numbers = [4, 5, 6]\n",
    "\n",
    "numbers.extend(more_numbers) # numbers = [1, 2, 3, 4, 5, 6] \n",
    "\n",
    "more_numbers.extend(numbers) # more_numbers = [4, 5, 6, 1, 2, 3, 4, 5, 6]\n",
    "\n",
    "print(more_numbers)"
   ]
  },
  {
   "cell_type": "markdown",
   "metadata": {},
   "source": [
    "### Modify items in a list\n",
    "\n",
    "You can change the value of a specific item by referring to its index number.\n",
    "\n",
    "_Quiz: What will be the output of this code?_\n",
    "\n",
    "```python\n",
    "\n",
    "bools = [True, False, True, False]\n",
    "bools[1] = True\n",
    "\n",
    "print(bools)\n",
    "\n",
    "```\n",
    "\n",
    "_Answer_"
   ]
  },
  {
   "cell_type": "code",
   "execution_count": 68,
   "metadata": {},
   "outputs": [
    {
     "name": "stdout",
     "output_type": "stream",
     "text": [
      "[True, True, True, False]\n"
     ]
    }
   ],
   "source": [
    "bools = [True, False, True, False]\n",
    "bools[1] = True # change the second element to True\n",
    "\n",
    "print(bools)"
   ]
  },
  {
   "cell_type": "markdown",
   "metadata": {},
   "source": [
    "You can also change a range of items in a list by using slicing."
   ]
  },
  {
   "cell_type": "code",
   "execution_count": 69,
   "metadata": {},
   "outputs": [
    {
     "name": "stdout",
     "output_type": "stream",
     "text": [
      "[1, 2, 3, 4, 5, 6, 7, 8, 9, 10]\n"
     ]
    }
   ],
   "source": [
    "numbers = [1, 2, 3, 3, 3]\n",
    "numbers[3:] = [4, 5, 6, 7, 8, 9, 10] # replace the last three elements with 4, 5, 6\n",
    "print(numbers)"
   ]
  },
  {
   "cell_type": "markdown",
   "metadata": {},
   "source": [
    "## Tuple\n",
    "\n",
    "A `tuple` is a collection which is ordered and _unchangeable_. In Python tuples are written with round brackets `()`.\n",
    "\n",
    "`tuple` is similar to `list`, but the main difference is that `tuple` is _immutable_.\n",
    "\n",
    "### Tuple Example"
   ]
  },
  {
   "cell_type": "code",
   "execution_count": 76,
   "metadata": {},
   "outputs": [
    {
     "name": "stdout",
     "output_type": "stream",
     "text": [
      "5\n",
      "(1, 2, 3, 4, 5)\n",
      "1\n",
      "5\n",
      "(2, 3, 4)\n"
     ]
    }
   ],
   "source": [
    "my_tuple = (1, 2, 3, 4, 5)\n",
    "print(len(my_tuple)) # 5\n",
    "print(my_tuple)\n",
    "print(my_tuple[0]) # 1\n",
    "print(my_tuple[-1]) # 5\n",
    "print(my_tuple[1:4]) # (2, 3, 4)"
   ]
  },
  {
   "cell_type": "markdown",
   "metadata": {},
   "source": [
    "```python\n",
    "my_tuple.pop()\n",
    "my_tuple.append(6)\n",
    "my_tuple[0] = 6\n",
    "```\n",
    "\n",
    "All of the above code will result in an error, because `tuple` is _immutable_ and does not support item assignment, item deletion, or item addition."
   ]
  },
  {
   "cell_type": "markdown",
   "metadata": {},
   "source": [
    "## Set\n",
    "\n",
    "A `set` is a collection which is unordered and unindexed. In Python sets are written with curly brackets `{}`. It is similar to $set \\{\\}$ in mathematics.\n",
    "\n",
    "The core characteristics of a set are that the elements are unordered, unindexed, and do not allow duplicate values.\n",
    "\n",
    "### Set Example"
   ]
  },
  {
   "cell_type": "code",
   "execution_count": 89,
   "metadata": {},
   "outputs": [
    {
     "name": "stdout",
     "output_type": "stream",
     "text": [
      "{1, 2, 3, 4, 5}\n"
     ]
    }
   ],
   "source": [
    "my_set = {1, 2, 3, 4, 5, 5, 5, 5, 5, 5}\n",
    "len(my_set) # 5\n",
    "print(my_set) # {1, 2, 3, 4, 5}, the duplicates are removed"
   ]
  },
  {
   "cell_type": "code",
   "execution_count": 90,
   "metadata": {},
   "outputs": [
    {
     "name": "stdout",
     "output_type": "stream",
     "text": [
      "{1, 2, 3, 4, 5, 6}\n",
      "{2, 3, 4, 5, 6}\n"
     ]
    }
   ],
   "source": [
    "my_set = {1, 2, 3, 4, 5, 5, 5, 5, 5, 5}\n",
    "\n",
    "my_set.add(6)\n",
    "print(my_set) # {1, 2, 3, 4, 5, 6}\n",
    "\n",
    "my_set.remove(1)\n",
    "print(my_set) # {2, 3, 4, 5, 6}\n"
   ]
  },
  {
   "cell_type": "code",
   "execution_count": 96,
   "metadata": {},
   "outputs": [
    {
     "name": "stdout",
     "output_type": "stream",
     "text": [
      "{1, 2, 3, 4, 5, 6, 7, 8}\n",
      "{4, 5}\n",
      "{1, 2, 3, 6, 7, 8}\n"
     ]
    }
   ],
   "source": [
    "set1 = {1, 2, 3, 4, 5}\n",
    "set2 = {4, 5, 6, 7, 8}\n",
    "\n",
    "set3 = set1.union(set2)\n",
    "print(set3) # {1, 2, 3, 4, 5, 6, 7, 8}\n",
    "\n",
    "set4 = set1.intersection(set2)\n",
    "print(set4) # {4, 5}\n",
    "\n",
    "set5 = set1.symmetric_difference(set2)\n",
    "print(set5) # {1, 2, 3, 6, 7, 8}"
   ]
  },
  {
   "cell_type": "markdown",
   "metadata": {},
   "source": [
    "Let $ set1 = \\{1, 2, 3, 4, 5\\} $ and $ set2 = \\{4, 5, 6, 7, 8\\} $\n",
    "\n",
    "- The union of $ set1 $ and $ set2 $ is represented as:\n",
    "\n",
    "$ set3 = set1 \\cup set2 = \\{1, 2, 3, 4, 5, 6, 7, 8\\} $\n",
    "\n",
    "- The intersection of $ set1 $ and $ set2 $ is represented as:\n",
    "\n",
    "$ set4 = set1 \\cap set2 = \\{4, 5\\} $\n",
    "\n",
    "- The symmetric difference of $ set1 $ and $ set2 $ is represented as:\n",
    "\n",
    "$ set5 = set1 \\bigtriangleup set2 = set1 \\cup set2 - set1 \\cap set2 = \\{1, 2, 3, 6, 7, 8\\} $"
   ]
  },
  {
   "cell_type": "markdown",
   "metadata": {},
   "source": [
    "### Casting between list, tuple, and set\n",
    "\n",
    "You can convert the data types between `list`, `tuple`, and `set` using the following functions:\n",
    "\n",
    "- `list()`\n",
    "- `tuple()`\n",
    "- `set()`"
   ]
  },
  {
   "cell_type": "code",
   "execution_count": 127,
   "metadata": {},
   "outputs": [
    {
     "name": "stdout",
     "output_type": "stream",
     "text": [
      "list: [1, 2, 3, 4, 5]\n",
      "tuple: (1, 2, 3, 4, 5)\n",
      "set: {1, 2, 3, 4, 5}\n"
     ]
    }
   ],
   "source": [
    "# from list to tuple and set\n",
    "my_list = [1, 2, 3, 4, 5]\n",
    "\n",
    "my_tuple = tuple(my_list)\n",
    "\n",
    "my_set = set(my_list)\n",
    "\n",
    "print(f\"list: {my_list}\")\n",
    "print(f\"tuple: {my_tuple}\")\n",
    "print(f\"set: {my_set}\")"
   ]
  },
  {
   "cell_type": "code",
   "execution_count": 128,
   "metadata": {},
   "outputs": [
    {
     "name": "stdout",
     "output_type": "stream",
     "text": [
      "list: [1, 2, 3, 4, 5, 5, 5, 6]\n",
      "tuple: (1, 2, 3, 4, 5, 5, 5)\n",
      "set: {1, 2, 3, 4, 5}\n"
     ]
    }
   ],
   "source": [
    "# from tuple to list and set\n",
    "my_tuple = (1, 2, 3, 4, 5, 5, 5)\n",
    "\n",
    "my_list = list(my_tuple)\n",
    "my_list.append(6)\n",
    "\n",
    "my_set = set(my_tuple) # removes the duplicates\n",
    "\n",
    "print(f\"list: {my_list}\")\n",
    "print(f\"tuple: {my_tuple}\")\n",
    "print(f\"set: {my_set}\")"
   ]
  },
  {
   "cell_type": "code",
   "execution_count": 130,
   "metadata": {},
   "outputs": [
    {
     "name": "stdout",
     "output_type": "stream",
     "text": [
      "list: [1, 2, 3, 4, 5]\n",
      "tuple: (1, 2, 3, 4, 5)\n",
      "set: {1, 2, 3, 4, 5}\n"
     ]
    }
   ],
   "source": [
    "# from set to list and tuple\n",
    "\n",
    "my_set = {1, 2, 3, 4, 5, 5, 5}\n",
    "\n",
    "my_list = list(my_set)\n",
    "my_tuple = tuple(my_set)\n",
    "\n",
    "print(f\"list: {my_list}\")\n",
    "print(f\"tuple: {my_tuple}\")\n",
    "print(f\"set: {my_set}\")"
   ]
  },
  {
   "cell_type": "markdown",
   "metadata": {},
   "source": [
    "## Dictionary\n",
    "\n",
    "A `dictionary` is a collection which is unordered, changeable, and indexed. In Python dictionaries are written with curly brackets `{}`, and they have keys and values.\n",
    "\n",
    "`Dictionary` is different from the other data types in that it is a collection of `key-value` pairs. Each key is separated from its value by a colon `:`. The items are separated by commas `,`.\n",
    "\n",
    "### Dictionary Example"
   ]
  },
  {
   "cell_type": "code",
   "execution_count": 97,
   "metadata": {},
   "outputs": [],
   "source": [
    "example_dict = {\n",
    "    \"job\" : \"programmer\",\n",
    "    \"age\" : 21,\n",
    "    \"major\": \"Computer Science\",\n",
    "    \"grades\": [90, 98, 89, 100],\n",
    "    \"is_student\": True\n",
    "}"
   ]
  },
  {
   "cell_type": "markdown",
   "metadata": {},
   "source": [
    "- keys: \"job\", \"age\", \"major\", \"grades\", \"is_student\" \n",
    "- values: \"programmer\", 21, \"computer science\", [90, 98, 89, 100], True\n",
    "\n",
    "`keys` work similar to _index_ in _list_ and _tuple_, but `keys` can be any _immutable_ data type, such as `int`, `float`, `str`, `tuple`, and `bool`.\n",
    "\n",
    "To access the values, you can use the `key`, just like you use the _index_ in a _list_ or a _tuple_."
   ]
  },
  {
   "cell_type": "code",
   "execution_count": 108,
   "metadata": {},
   "outputs": [
    {
     "name": "stdout",
     "output_type": "stream",
     "text": [
      "{1: 'integer', 2.5: 'float', 'key': 'string', (1, 2): 'tuple', False: 'boolean'}\n",
      "integer\n",
      "float\n",
      "string\n",
      "tuple\n",
      "boolean\n"
     ]
    }
   ],
   "source": [
    "example_dict = {1: \"integer\", 2.5: \"float\", \"key\": \"string\", (1, 2): \"tuple\", False: \"boolean\"}\n",
    "\n",
    "print(example_dict)\n",
    "print(example_dict[1]) # integer\n",
    "print(example_dict[2.5]) # float\n",
    "print(example_dict[\"key\"]) # string\n",
    "print(example_dict[(1, 2)]) # tuple\n",
    "print(example_dict[False]) # boolean\n"
   ]
  },
  {
   "cell_type": "markdown",
   "metadata": {},
   "source": [
    "### Modify Dictionary\n",
    "\n",
    "_Quiz: What will be the output of this code?_\n",
    "\n",
    "```python\n",
    "\n",
    "dict1 = {\n",
    "    1: \"one\",\n",
    "    2: \"two\",\n",
    "    3: \"three\",\n",
    "    4: \"four\"\n",
    "}\n",
    "\n",
    "dict1.pop(1)\n",
    "dict1[3] = \" \"\n",
    "dict1[5] = \"five\"\n",
    "\n",
    "print(dict1)\n",
    "```\n",
    "\n",
    "_Answer_"
   ]
  },
  {
   "cell_type": "code",
   "execution_count": 112,
   "metadata": {},
   "outputs": [
    {
     "name": "stdout",
     "output_type": "stream",
     "text": [
      "{2: 'two', 3: ' ', 4: 'four', 5: 'five'}\n"
     ]
    }
   ],
   "source": [
    "dict1 = {\n",
    "    1: \"one\",\n",
    "    2: \"two\",\n",
    "    3: \"three\",\n",
    "    4: \"four\"\n",
    "}\n",
    "\n",
    "dict1.pop(1) # remove the key-value pair with key 1\n",
    "dict1[3] = \" \" # update the value of key 3 to an empty string\n",
    "dict1[5] = \"five\" # add a new key-value pair to the dictionary\n",
    "\n",
    "print(dict1)"
   ]
  },
  {
   "cell_type": "markdown",
   "metadata": {},
   "source": [
    "### Other operations on Dictionary"
   ]
  },
  {
   "cell_type": "code",
   "execution_count": 120,
   "metadata": {},
   "outputs": [
    {
     "name": "stdout",
     "output_type": "stream",
     "text": [
      "use len() function to get the length of the dictionary: 4\n",
      "merged dictionary: {1: 'one', 2: 'two', 3: 'three', 4: 'four', 5: 'five', 6: 'six', 7: 'seven'}\n",
      "dict2 after clear: {}\n",
      "dict2 after update: {1: 'one', 2: 'two', 3: 'three', 4: 'four'}\n"
     ]
    }
   ],
   "source": [
    "dict1 = {\n",
    "    1: \"one\",\n",
    "    2: \"two\",\n",
    "    3: \"three\",\n",
    "    4: \"four\"\n",
    "}\n",
    "\n",
    "dict2 = {\n",
    "    5: \"five\",\n",
    "    6: \"six\",\n",
    "    7: \"seven\"\n",
    "}\n",
    "\n",
    "\n",
    "print(f\"use len() function to get the length of the dictionary: {len(dict1)}\") # 4\n",
    "\n",
    "dict3 = {**dict1, **dict2} # merge the two dictionaries\n",
    "print(f\"merged dictionary: {dict3}\")\n",
    "\n",
    "dict2.clear() # clear the dictionary\n",
    "print(f\"dict2 after clear: {dict2}\")\n",
    "\n",
    "dict2.update(dict1) # update dict2 with the key-value pairs from dict1\n",
    "print(f\"dict2 after update: {dict2}\")"
   ]
  },
  {
   "cell_type": "markdown",
   "metadata": {},
   "source": [
    "## Practice Problems\n",
    "\n",
    "### Problems\n",
    "\n",
    "1. Create a list of integers from 1 to 10 in ascending order, then reverse the list, and print the reversed list.\n",
    "\n",
    "*Hint: Use slicing:* `list[start:end:step]`\n",
    "\n",
    "2. Given a tuple of integers, find how many duplicate values are in the tuple, and return a list that consists of the same numbers in the tuple, but without duplicates.\n",
    "\n",
    "_Example:_\n",
    "\n",
    "```python\n",
    "\n",
    "# input\n",
    "my_tuple = (10, 11, 13, 13, 17, 10, 20, 21, 2, 2, 2, 2)\n",
    "\n",
    "# output\n",
    "```\n",
    "There are 4 duplicate items in the tuple.\n",
    "\n",
    "list: [10, 11, 13, 17, 20, 21, 2]\n",
    "\n",
    "3. You, as a teacher, finished grading your students' work and updated their final grade. However, right before submitting the grades, you discovered that one of your students, \" Joseph \", cheated on the exam. You are very upset and decided to give him a final grade of 0 and mark him \"failed\". You also noticed that you made a small mistake, and you accidently swapped the subjects of \" Edward \" and \" Jennifer \". You need to fix the mistake and update their grades too.\n",
    "\n",
    "Question: Given the dictionary of the students, update the information according to the passage."
   ]
  }
 ],
 "metadata": {
  "kernelspec": {
   "display_name": "Python 3",
   "language": "python",
   "name": "python3"
  },
  "language_info": {
   "codemirror_mode": {
    "name": "ipython",
    "version": 3
   },
   "file_extension": ".py",
   "mimetype": "text/x-python",
   "name": "python",
   "nbconvert_exporter": "python",
   "pygments_lexer": "ipython3",
   "version": "3.9.13"
  }
 },
 "nbformat": 4,
 "nbformat_minor": 2
}
