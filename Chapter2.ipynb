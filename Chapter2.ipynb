{
 "cells": [
  {
   "cell_type": "markdown",
   "metadata": {},
   "source": [
    "---\n",
    "Python Tutorial - Chapter 2\n",
    "---\n",
    "\n",
    "# Welcom back to Python Tutorial!\n",
    "\n",
    "Topics covered in this chapter:\n",
    "\n",
    "* list\n",
    "* tuple\n",
    "* set\n",
    "* dictionary\n",
    "\n",
    "So far, we have seen the following data types in Python, `int`, `float`, `str`, `bool`. These data types are used to store a single value. But what if we want to store multiple values in a single variable? This is where Python list comes in.\n",
    "\n",
    "There are four built-in data types in Python that can be used to store multiple values in a single variable. These data types are 'list', 'tuple', 'set', and 'dictionary'.\n",
    "\n",
    "## Python List data type\n",
    "\n",
    "List is a collection which is ordered and changeable. In Python lists are written with square brackets `[]`.\n",
    "\n",
    "Lists can store any type of data, including other lists. Lists can also store duplicate values.\n",
    "\n",
    "### List Example\n",
    "\n",
    "- lists can store any type of data"
   ]
  },
  {
   "cell_type": "code",
   "execution_count": 53,
   "metadata": {},
   "outputs": [
    {
     "name": "stdout",
     "output_type": "stream",
     "text": [
      "[1, 2, 3, 4, 5, 6, 7, 8, 9, 10]\n",
      "['apple', 'banana', 'cherry', 'date', 'elderberry', 'fig', 'grape']\n",
      "[True, False]\n",
      "[1.1, 2.2, 3.3, 4.4, 5.5]\n",
      "[1, 'apple', True, 3.3]\n"
     ]
    }
   ],
   "source": [
    "integer_list = [1, 2, 3, 4, 5, 6, 7, 8, 9, 10]\n",
    "string_list = [\"apple\", \"banana\", \"cherry\", \"date\", \"elderberry\", \"fig\", \"grape\"]\n",
    "boolean_list = [True, False]\n",
    "float_list = [1.1, 2.2, 3.3, 4.4, 5.5]\n",
    "mixed_list = [1, \"apple\", True, 3.3]\n",
    "\n",
    "print(integer_list)\n",
    "print(string_list)\n",
    "print(boolean_list)\n",
    "print(float_list)\n",
    "print(mixed_list)"
   ]
  },
  {
   "cell_type": "markdown",
   "metadata": {},
   "source": [
    "- lists can store duplicate values or have no values at all"
   ]
  },
  {
   "cell_type": "code",
   "execution_count": 54,
   "metadata": {},
   "outputs": [
    {
     "name": "stdout",
     "output_type": "stream",
     "text": [
      "[1, 2, 2, 3, 3, 3]\n",
      "[]\n"
     ]
    }
   ],
   "source": [
    "dup_list = [1, 2, 2, 3, 3, 3]\n",
    "empty_list = []\n",
    "\n",
    "print(dup_list)\n",
    "print(empty_list)"
   ]
  },
  {
   "cell_type": "markdown",
   "metadata": {},
   "source": [
    "- lists can store other lists"
   ]
  },
  {
   "cell_type": "code",
   "execution_count": 55,
   "metadata": {},
   "outputs": [
    {
     "name": "stdout",
     "output_type": "stream",
     "text": [
      "['super', 'list', ['this', 'is', 'a', 'sub', 'list']]\n"
     ]
    }
   ],
   "source": [
    "sub_list = [\"this\", \"is\", \"a\", \"sub\", \"list\"]\n",
    "super_list = [\"super\", \"list\", sub_list]\n",
    "\n",
    "print(super_list)"
   ]
  },
  {
   "cell_type": "markdown",
   "metadata": {},
   "source": [
    "### Size of list\n",
    "\n",
    "The length of a list can be found using the `len()` function.\n",
    "\n",
    "`len` function returns the number of items in an object."
   ]
  },
  {
   "cell_type": "code",
   "execution_count": 56,
   "metadata": {},
   "outputs": [
    {
     "name": "stdout",
     "output_type": "stream",
     "text": [
      "3\n",
      "3\n",
      "5\n"
     ]
    }
   ],
   "source": [
    "list1 = [1, 2, 3]\n",
    "size1 = len(list1) \n",
    "print(size1)\n",
    "\n",
    "sub_list = [\"this\", \"is\", \"a\", \"sub\", \"list\"]\n",
    "super_list = [\"super\", \"list\", sub_list]\n",
    "\n",
    "print(len(super_list)) #3\n",
    "print(len(sub_list)) #5"
   ]
  },
  {
   "cell_type": "markdown",
   "metadata": {},
   "source": [
    "### Accessing Elements of a List\n",
    "\n",
    "- You can access the elements of a list using the `index`.\n",
    "\n",
    "A list stores elements in an ordered manner. Each element in a list has an index. The index of the first element is `0`, the index of the second element is `1`, and so on.\n",
    "\n",
    "_Quiz: What will be the output of this code?_\n",
    "\n",
    "```python\n",
    "\n",
    "numbers = [5, 4, 3, 2, 1]\n",
    "number = numbers[0]\n",
    "\n",
    "target = number * numbers[3]\n",
    "\n",
    "print(target)\n",
    "\n",
    "```\n",
    "\n",
    "_Answer_"
   ]
  },
  {
   "cell_type": "code",
   "execution_count": 57,
   "metadata": {},
   "outputs": [
    {
     "name": "stdout",
     "output_type": "stream",
     "text": [
      "10\n"
     ]
    }
   ],
   "source": [
    "numbers = [5, 4, 3, 2, 1] # index 0, 1, 2, 3, 4\n",
    "number = numbers[0] # 5\n",
    "\n",
    "target = number * numbers[3] # 5 * 2 = 10\n",
    "\n",
    "print(target)"
   ]
  },
  {
   "cell_type": "markdown",
   "metadata": {},
   "source": [
    "- Negative Indexing\n",
    "\n",
    "The index starts from `0` if you start from the first element. If you want to access element from reversed order, you can start from `-1`, `-2`, and so on, instead."
   ]
  },
  {
   "cell_type": "code",
   "execution_count": 58,
   "metadata": {},
   "outputs": [
    {
     "name": "stdout",
     "output_type": "stream",
     "text": [
      "grape\n",
      "grape\n",
      "fig\n",
      "fig\n"
     ]
    }
   ],
   "source": [
    "words = [\"apple\", \"banana\", \"cherry\", \"date\", \"elderberry\", \"fig\", \"grape\"]\n",
    "\n",
    "# Access the last element of the list\n",
    "n = len(words)\n",
    "print(words[n - 1]) # indexing starts from 0, so the last element is at index n - 1\n",
    "print(words[-1])\n",
    "\n",
    "# Access the second last element of the list\n",
    "print(words[n - 2])\n",
    "print(words[-2])"
   ]
  },
  {
   "cell_type": "markdown",
   "metadata": {},
   "source": [
    "### Slicing a List\n",
    "\n",
    "If you want to access multiple items from a list, you can use slicing.\n",
    "\n",
    "Slicing is done using the colon `:`. You can specify the start index and the end index, separated by a colon, to return a part of the list.\n",
    "\n",
    "Specifically, the syntax for slicing is `list[start:end]`."
   ]
  },
  {
   "cell_type": "code",
   "execution_count": 59,
   "metadata": {},
   "outputs": [
    {
     "name": "stdout",
     "output_type": "stream",
     "text": [
      "[2, 3]\n"
     ]
    }
   ],
   "source": [
    "main_list = [1, 2, 3, 4, 5]\n",
    "sub_list = main_list[1:3] \n",
    "\n",
    "\n",
    "print(sub_list) # [2, 3]"
   ]
  },
  {
   "cell_type": "markdown",
   "metadata": {},
   "source": [
    "$ subList = \\{mainList | index \\in [start, end)\\}$\n",
    "\n",
    "`sub_list` varialbe is a sublist of `main_list` variable, where `index` is in the range of $[start, end)$ or $ start \\leq index < end $.\n",
    "\n",
    "You can also specify the step, which allows you to return every `n-th` item. \n",
    "\n",
    "The syntax for step is `list[start:end:step]`.\n",
    "\n",
    "- If you leave the start index empty, it will start from the beginning.\n",
    "- If you leave the end index empty, it will go to the end. \n",
    "- If you leave the step empty, it will return every item."
   ]
  },
  {
   "cell_type": "code",
   "execution_count": 60,
   "metadata": {},
   "outputs": [
    {
     "name": "stdout",
     "output_type": "stream",
     "text": [
      "[2, 4, 6, 8, 10]\n",
      "[1, 3, 5, 7, 9]\n"
     ]
    }
   ],
   "source": [
    "numbers = [1, 2, 3, 4, 5, 6, 7, 8, 9, 10]\n",
    "even_numbers = numbers[1::2] # [2, 4, 6, 8, 10]\n",
    "odd_numbers = numbers[::2] # [1, 3, 5, 7, 9]\n",
    "\n",
    "print(even_numbers)\n",
    "print(odd_numbers)"
   ]
  },
  {
   "cell_type": "markdown",
   "metadata": {},
   "source": [
    "### Adding and Removing items from list\n",
    "\n",
    "- `append(item)` method adds an item to the end of the list.\n",
    "\n",
    "- `insert(index, item)` method adds an item at a specified position.\n",
    "\n",
    "- `remove(item)` method removes the first occurrence of the specified value.\n",
    "\n",
    "- `pop(index)` method removes the item at the specified position.\n",
    "\n",
    "- `clear()` method removes all the items from the list.\n",
    "\n",
    "- `extend()` method adds the elements of a list to the end of the current list."
   ]
  },
  {
   "cell_type": "code",
   "execution_count": 61,
   "metadata": {},
   "outputs": [
    {
     "name": "stdout",
     "output_type": "stream",
     "text": [
      "[1, 2, 3, 4, 5, 6]\n"
     ]
    }
   ],
   "source": [
    "# append()\n",
    "\n",
    "numbers = [1, 2, 3, 4, 5]\n",
    "\n",
    "numbers.append(6)\n",
    "\n",
    "print(numbers)\n"
   ]
  },
  {
   "cell_type": "code",
   "execution_count": 62,
   "metadata": {},
   "outputs": [
    {
     "name": "stdout",
     "output_type": "stream",
     "text": [
      "[1, 2, 3, 4, 5, 6]\n"
     ]
    }
   ],
   "source": [
    "# insert()\n",
    "\n",
    "numbers = [1, 2, 4, 5, 6]\n",
    "numbers.insert(2, 3) # insert 3 at index 2\n",
    "print(numbers) "
   ]
  },
  {
   "cell_type": "code",
   "execution_count": 63,
   "metadata": {},
   "outputs": [
    {
     "name": "stdout",
     "output_type": "stream",
     "text": [
      "[1, 1, 2, 2, 2]\n"
     ]
    }
   ],
   "source": [
    "# remove()\n",
    "\n",
    "numbers = [1, 1, 1, 2, 2, 2]\n",
    "numbers.remove(1) # remove the first occurrence of 1\n",
    "print(numbers)"
   ]
  },
  {
   "cell_type": "code",
   "execution_count": 64,
   "metadata": {},
   "outputs": [
    {
     "name": "stdout",
     "output_type": "stream",
     "text": [
      "[1, 2, 3, 4]\n",
      "the removed item is 5\n",
      "[1, 2, 4, 5]\n",
      "the removed item is 3\n"
     ]
    }
   ],
   "source": [
    "# pop()\n",
    "\n",
    "numbers = [1, 2, 3, 4, 5]\n",
    "removed = numbers.pop() # remove the last element\n",
    "print(numbers)\n",
    "print(f\"the removed item is {removed}\")\n",
    "\n",
    "numbers = [1, 2, 3, 4, 5]\n",
    "removed = numbers.pop(2) # remove the element at index 2\n",
    "print(numbers)\n",
    "print(f\"the removed item is {removed}\")"
   ]
  },
  {
   "cell_type": "code",
   "execution_count": 65,
   "metadata": {},
   "outputs": [
    {
     "name": "stdout",
     "output_type": "stream",
     "text": [
      "before clear length: 5\n",
      "after clear length: 0\n",
      "[]\n"
     ]
    }
   ],
   "source": [
    "# clear()\n",
    "\n",
    "numbers = [1, 2, 3, 4, 5]\n",
    "print(f\"before clear length: {len(numbers)}\") \n",
    "numbers.clear()\n",
    "print(f\"after clear length: {len(numbers)}\") \n",
    "print(numbers)"
   ]
  },
  {
   "cell_type": "code",
   "execution_count": 66,
   "metadata": {},
   "outputs": [
    {
     "name": "stdout",
     "output_type": "stream",
     "text": [
      "[1, 2, 3, 4, 5, 6]\n"
     ]
    }
   ],
   "source": [
    "# extend()\n",
    "\n",
    "numbers = [1, 2, 3]\n",
    "more_numbers = [4, 5, 6]\n",
    "\n",
    "numbers.extend(more_numbers)\n",
    "print(numbers)"
   ]
  },
  {
   "cell_type": "markdown",
   "metadata": {},
   "source": [
    "_Quiz: What will be the output of this code?_\n",
    "\n",
    "```python\n",
    "\n",
    "numbers = [1, 2, 3]\n",
    "more_numbers = [4, 5, 6]\n",
    "\n",
    "numbers.extend(more_numbers)\n",
    "\n",
    "more_numbers.extend(numbers)\n",
    "\n",
    "print(more_numbers)\n",
    "\n",
    "```\n",
    "\n",
    "_Answer_\n",
    "\n",
    "`numbers` variable is updated from `[1, 2, 3]` to `[1, 2, 3, 4, 5, 6]`. `more_numbers` variable is updated from `[4, 5, 6]` to `[4, 5, 6, 1, 2, 3, 4, 5, 6]`."
   ]
  },
  {
   "cell_type": "code",
   "execution_count": 67,
   "metadata": {},
   "outputs": [
    {
     "name": "stdout",
     "output_type": "stream",
     "text": [
      "[4, 5, 6, 1, 2, 3, 4, 5, 6]\n"
     ]
    }
   ],
   "source": [
    "numbers = [1, 2, 3]\n",
    "more_numbers = [4, 5, 6]\n",
    "\n",
    "numbers.extend(more_numbers) # numbers = [1, 2, 3, 4, 5, 6] \n",
    "\n",
    "more_numbers.extend(numbers) # more_numbers = [4, 5, 6, 1, 2, 3, 4, 5, 6]\n",
    "\n",
    "print(more_numbers)"
   ]
  },
  {
   "cell_type": "markdown",
   "metadata": {},
   "source": [
    "### Modify items in a list\n",
    "\n",
    "You can change the value of a specific item by referring to its index number.\n",
    "\n",
    "_Quiz: What will be the output of this code?_\n",
    "\n",
    "```python\n",
    "\n",
    "bools = [True, False, True, False]\n",
    "bools[1] = True\n",
    "\n",
    "print(bools)\n",
    "\n",
    "```\n",
    "\n",
    "_Answer_"
   ]
  },
  {
   "cell_type": "code",
   "execution_count": 68,
   "metadata": {},
   "outputs": [
    {
     "name": "stdout",
     "output_type": "stream",
     "text": [
      "[True, True, True, False]\n"
     ]
    }
   ],
   "source": [
    "bools = [True, False, True, False]\n",
    "bools[1] = True # change the second element to True\n",
    "\n",
    "print(bools)"
   ]
  },
  {
   "cell_type": "markdown",
   "metadata": {},
   "source": [
    "You can also change a range of items in a list by using slicing."
   ]
  },
  {
   "cell_type": "code",
   "execution_count": 69,
   "metadata": {},
   "outputs": [
    {
     "name": "stdout",
     "output_type": "stream",
     "text": [
      "[1, 2, 3, 4, 5, 6, 7, 8, 9, 10]\n"
     ]
    }
   ],
   "source": [
    "numbers = [1, 2, 3, 3, 3]\n",
    "numbers[3:] = [4, 5, 6, 7, 8, 9, 10] # replace the last three elements with 4, 5, 6\n",
    "print(numbers)"
   ]
  },
  {
   "cell_type": "markdown",
   "metadata": {},
   "source": [
    "## Tuple\n",
    "\n",
    "A `tuple` is a collection which is ordered and _unchangeable_. In Python tuples are written with round brackets `()`.\n",
    "\n",
    "`tuple` is similar to `list`, but the main difference is that `tuple` is _immutable_.\n",
    "\n",
    "### Tuple Example"
   ]
  },
  {
   "cell_type": "code",
   "execution_count": 76,
   "metadata": {},
   "outputs": [
    {
     "name": "stdout",
     "output_type": "stream",
     "text": [
      "5\n",
      "(1, 2, 3, 4, 5)\n",
      "1\n",
      "5\n",
      "(2, 3, 4)\n"
     ]
    }
   ],
   "source": [
    "my_tuple = (1, 2, 3, 4, 5)\n",
    "print(len(my_tuple)) # 5\n",
    "print(my_tuple)\n",
    "print(my_tuple[0]) # 1\n",
    "print(my_tuple[-1]) # 5\n",
    "print(my_tuple[1:4]) # (2, 3, 4)"
   ]
  },
  {
   "cell_type": "markdown",
   "metadata": {},
   "source": [
    "```python\n",
    "my_tuple.pop()\n",
    "my_tuple.append(6)\n",
    "my_tuple[0] = 6\n",
    "```\n",
    "\n",
    "All of the above code will result in an error, because `tuple` is _immutable_ and does not support item assignment, item deletion, or item addition."
   ]
  },
  {
   "cell_type": "markdown",
   "metadata": {},
   "source": [
    "## Set\n",
    "\n",
    "A `set` is a collection which is unordered and unindexed. In Python sets are written with curly brackets `{}`. It is similar to $set \\{\\}$ in mathematics.\n",
    "\n",
    "The core characteristics of a set are that the elements are unordered, unindexed, and do not allow duplicate values.\n",
    "\n",
    "### Set Example"
   ]
  },
  {
   "cell_type": "code",
   "execution_count": 89,
   "metadata": {},
   "outputs": [
    {
     "name": "stdout",
     "output_type": "stream",
     "text": [
      "{1, 2, 3, 4, 5}\n"
     ]
    }
   ],
   "source": [
    "my_set = {1, 2, 3, 4, 5, 5, 5, 5, 5, 5}\n",
    "len(my_set) # 5\n",
    "print(my_set) # {1, 2, 3, 4, 5}, the duplicates are removed"
   ]
  },
  {
   "cell_type": "code",
   "execution_count": 90,
   "metadata": {},
   "outputs": [
    {
     "name": "stdout",
     "output_type": "stream",
     "text": [
      "{1, 2, 3, 4, 5, 6}\n",
      "{2, 3, 4, 5, 6}\n"
     ]
    }
   ],
   "source": [
    "my_set = {1, 2, 3, 4, 5, 5, 5, 5, 5, 5}\n",
    "\n",
    "my_set.add(6)\n",
    "print(my_set) # {1, 2, 3, 4, 5, 6}\n",
    "\n",
    "my_set.remove(1)\n",
    "print(my_set) # {2, 3, 4, 5, 6}\n"
   ]
  },
  {
   "cell_type": "code",
   "execution_count": 96,
   "metadata": {},
   "outputs": [
    {
     "name": "stdout",
     "output_type": "stream",
     "text": [
      "{1, 2, 3, 4, 5, 6, 7, 8}\n",
      "{4, 5}\n",
      "{1, 2, 3, 6, 7, 8}\n"
     ]
    }
   ],
   "source": [
    "set1 = {1, 2, 3, 4, 5}\n",
    "set2 = {4, 5, 6, 7, 8}\n",
    "\n",
    "set3 = set1.union(set2)\n",
    "print(set3) # {1, 2, 3, 4, 5, 6, 7, 8}\n",
    "\n",
    "set4 = set1.intersection(set2)\n",
    "print(set4) # {4, 5}\n",
    "\n",
    "set5 = set1.symmetric_difference(set2)\n",
    "print(set5) # {1, 2, 3, 6, 7, 8}"
   ]
  },
  {
   "cell_type": "markdown",
   "metadata": {},
   "source": [
    "Let $ set1 = \\{1, 2, 3, 4, 5\\} $ and $ set2 = \\{4, 5, 6, 7, 8\\} $\n",
    "\n",
    "- The union of $ set1 $ and $ set2 $ is represented as:\n",
    "\n",
    "$ set3 = set1 \\cup set2 = \\{1, 2, 3, 4, 5, 6, 7, 8\\} $\n",
    "\n",
    "- The intersection of $ set1 $ and $ set2 $ is represented as:\n",
    "\n",
    "$ set4 = set1 \\cap set2 = \\{4, 5\\} $\n",
    "\n",
    "- The symmetric difference of $ set1 $ and $ set2 $ is represented as:\n",
    "\n",
    "$ set5 = set1 \\bigtriangleup set2 = set1 \\cup set2 - set1 \\cap set2 = \\{1, 2, 3, 6, 7, 8\\} $"
   ]
  }
 ],
 "metadata": {
  "kernelspec": {
   "display_name": "Python 3",
   "language": "python",
   "name": "python3"
  },
  "language_info": {
   "codemirror_mode": {
    "name": "ipython",
    "version": 3
   },
   "file_extension": ".py",
   "mimetype": "text/x-python",
   "name": "python",
   "nbconvert_exporter": "python",
   "pygments_lexer": "ipython3",
   "version": "3.9.13"
  }
 },
 "nbformat": 4,
 "nbformat_minor": 2
}
